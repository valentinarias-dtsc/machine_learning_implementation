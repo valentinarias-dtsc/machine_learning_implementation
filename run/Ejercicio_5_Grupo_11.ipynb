{
 "cells": [
  {
   "cell_type": "markdown",
   "id": "29b73eb0",
   "metadata": {},
   "source": [
    "## 5. LDA\n",
    "Programen su propia implementación de LDA y utilicenlá para predecir el género de los audios procesados en el archivo dataset.csv de la carpeta Datos de la clase 6. Pueden intentar mejorar el feature engineering de los audios crudos que se encuentran en la subcarpeta Raw si así lo consideran."
   ]
  },
  {
   "cell_type": "code",
   "execution_count": 2,
   "id": "85c71b43",
   "metadata": {},
   "outputs": [],
   "source": [
    "import pandas as pd\n",
    "from imblearn.over_sampling import RandomOverSampler\n",
    "from sklearn.model_selection import train_test_split\n",
    "\n",
    "import sys\n",
    "sys.path.append(\"../src\")\n",
    "\n",
    "from lda import LDA"
   ]
  },
  {
   "cell_type": "markdown",
   "id": "0474c5eb",
   "metadata": {},
   "source": [
    "En este caso, trabajamos con un dataset extraído de Kaggle. El mismo proviene del paper 'Voice Recognition and Gender Classification in the Context of Native Languages and Lingua Franca' de O. Llanusi y equipo. Contiene grabaciones de voz de 526 personas de una a cinco grabaciones por persona.\n",
    "\n",
    "El objetivo es identificar el género de la persona hablante para cada audio. Para alcanzarlo, se realizó un tratamiento de audio que consiste en calcular summary statistics sobre características de los audios, como la frecuencia, longitud de onda, amplitud, etc. \n",
    "\n",
    "Medidas de tendencia central, cuartiles, kurtosis y medidas de dispersión son algunas de las características extraídas de los audios originales, y nos serán de gran ayuda para poder cumplir con el objetivo."
   ]
  },
  {
   "cell_type": "code",
   "execution_count": 3,
   "id": "21440d69",
   "metadata": {},
   "outputs": [],
   "source": [
    "df = pd.read_csv('../data/dataset.csv')"
   ]
  },
  {
   "cell_type": "code",
   "execution_count": 25,
   "id": "2115eb21",
   "metadata": {},
   "outputs": [
    {
     "data": {
      "text/plain": [
       "np.float64(0.0029806259314456036)"
      ]
     },
     "execution_count": 25,
     "metadata": {},
     "output_type": "execute_result"
    }
   ],
   "source": [
    "(df.isnull().any(axis=1).sum())/len(df)"
   ]
  },
  {
   "cell_type": "code",
   "execution_count": null,
   "id": "26871142",
   "metadata": {},
   "outputs": [
    {
     "name": "stdout",
     "output_type": "stream",
     "text": [
      "0.885\n"
     ]
    }
   ],
   "source": [
    "# Load the dataset and drop rows with missing values\n",
    "df = pd.read_csv(\"Datos/dataset.csv\")\n",
    "df = df.dropna()\n",
    "\n",
    "# \n",
    "X = df.drop(columns=[\"label\"])\n",
    "y = df[\"label\"].map({\"'Male'\": 0, \"'Female'\": 1})  # \n",
    "\n",
    "# \n",
    "X_resampled, y_resampled = RandomOverSampler().fit_resample(X, y)\n",
    "\n",
    "# \n",
    "X_train, X_test, y_train, y_test = train_test_split(X_resampled, y_resampled, test_size=0.2, random_state=42)\n",
    "\n",
    "clf = LDA()\n",
    "clf.fit(X_train,y_train)\n",
    "\n",
    "#\n",
    "print(clf.score(X_test, y_test))"
   ]
  },
  {
   "cell_type": "markdown",
   "id": "cb588e03",
   "metadata": {},
   "source": []
  }
 ],
 "metadata": {
  "kernelspec": {
   "display_name": "Python 3",
   "language": "python",
   "name": "python3"
  },
  "language_info": {
   "codemirror_mode": {
    "name": "ipython",
    "version": 3
   },
   "file_extension": ".py",
   "mimetype": "text/x-python",
   "name": "python",
   "nbconvert_exporter": "python",
   "pygments_lexer": "ipython3",
   "version": "3.11.9"
  }
 },
 "nbformat": 4,
 "nbformat_minor": 5
}
