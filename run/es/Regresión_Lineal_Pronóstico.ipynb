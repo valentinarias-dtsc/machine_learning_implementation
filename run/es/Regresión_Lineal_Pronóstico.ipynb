{
 "cells": [
  {
   "cell_type": "markdown",
   "id": "b204f383",
   "metadata": {},
   "source": [
    "# Pronóstico con Regresión Lineal\n",
    "\n",
    "### #Introducción, objetivo, y contexto#"
   ]
  },
  {
   "cell_type": "code",
   "execution_count": null,
   "id": "f5d0fd03",
   "metadata": {},
   "outputs": [],
   "source": [
    "import numpy as np\n",
    "import pandas as pd\n",
    "import matplotlib.pyplot as plt\n",
    "from sklearn.model_selection import train_test_split\n",
    "\n",
    "import sys\n",
    "sys.path.append('././src')\n",
    "from linear_regression import LinReg"
   ]
  },
  {
   "cell_type": "code",
   "execution_count": null,
   "id": "979c9c93",
   "metadata": {},
   "outputs": [],
   "source": [
    "# Cargamos los datos\n",
    "Data = pd.read_casv('././data/forecasting.csv', parse_dates=[0], date_format='%d.%m.%Y')\n",
    "\n",
    "# Graficamos y echamos un vistazo a los datos\n",
    "Data.plot(x='period', y='sales_quantity', xticks=[], style='--')\n",
    "Data.head()"
   ]
  },
  {
   "cell_type": "markdown",
   "id": "ab679e40",
   "metadata": {},
   "source": [
    "### estacionalidad, por qué es un problema y cómo se soluciona"
   ]
  },
  {
   "cell_type": "code",
   "execution_count": null,
   "id": "19a44f87",
   "metadata": {},
   "outputs": [],
   "source": [
    "# Aplicamos una transformación básica de media móvil\n",
    "Data['moving_avg'] = Data['sales_quantity'].shift(1).rolling(window=6, center=False).mean()\n",
    "Data['deseasonalized'] = Data['sales_quantity'] - Data['moving_avg']\n",
    "\n",
    "# Graficamos el resultado\n",
    "Data.plot(x='period', y='deseasonalized', xticks=[], style='--')"
   ]
  },
  {
   "cell_type": "markdown",
   "id": "dad10508",
   "metadata": {},
   "source": [
    "## hay que agregar transformaciones polinómicas, probar y quedarnos con el que de el mejor score"
   ]
  },
  {
   "cell_type": "code",
   "execution_count": null,
   "id": "de03a7e5",
   "metadata": {},
   "outputs": [],
   "source": [
    "# Creamos variables dummy para los meses\n",
    "month_dummies = pd.get_dummies(Data['period'].dt.month_name(), prefix='month', drop_first=True)\n",
    "month_dummies = month_dummies.astype(int)\n",
    "Data = pd.concat([Data, month_dummies], axis=1)\n",
    "\n",
    "# Creamos las variables de rezago\n",
    "lags = []\n",
    "for i in range(1, 6):\n",
    "    Data[f'Lag_{i}'] = Data['deseasonalized'].shift(i)\n",
    "    lags.append(f'Lag_{i}')\n",
    "\n",
    "# Eliminamos los valores nulos\n",
    "Data.dropna(inplace=True)"
   ]
  },
  {
   "cell_type": "code",
   "execution_count": null,
   "id": "99bdd83a",
   "metadata": {},
   "outputs": [],
   "source": [
    "# Dividimos los datos en conjuntos de entrenamiento y prueba\n",
    "train, test = train_test_split(Data, test_size=0.2, shuffle=False) # Mantener el orden temporal\n",
    "\n",
    "# Definimos las características y el objetivo\n",
    "features = lags + list(month_dummies.columns)\n",
    "target = 'deseasonalized'\n",
    "\n",
    "# Entrenamos el modelo\n",
    "model = LinReg(verbose=True)\n",
    "model.fit(train[features], train[target])\n",
    "\n",
    "# Imprimimos el error cuadrático medio\n",
    "print(f'Error cuadrático medio: {model.score(test[features], test[target])}')"
   ]
  },
  {
   "cell_type": "code",
   "execution_count": null,
   "id": "43509f68",
   "metadata": {},
   "outputs": [],
   "source": [
    "# Realizamos la predicción\n",
    "test['y_pred'] = model.predict(test[features])\n",
    "\n",
    "# Miro las predicciones\n",
    "plt.plot(test[\"period\"], test[target], '--', c='Blue', label='Real', alpha=0.4)\n",
    "plt.plot(test[\"period\"], test['y_pred'], '--', c='Red', label='Predicción')\n",
    "plt.legend()\n",
    "plt.show()\n",
    "\n",
    "# Imprimo el resumen de las predicciones\n",
    "test[['deseasonalized', 'Prediccion']].describe()"
   ]
  },
  {
   "cell_type": "markdown",
   "id": "3ed47e1f",
   "metadata": {},
   "source": [
    "### observaciones y conclusiones"
   ]
  }
 ],
 "metadata": {
  "kernelspec": {
   "display_name": "Python 3 (ipykernel)",
   "language": "python",
   "name": "python3"
  },
  "language_info": {
   "codemirror_mode": {
    "name": "ipython",
    "version": 3
   },
   "file_extension": ".py",
   "mimetype": "text/x-python",
   "name": "python",
   "nbconvert_exporter": "python",
   "pygments_lexer": "ipython3",
   "version": "3.12.1"
  }
 },
 "nbformat": 4,
 "nbformat_minor": 5
}
