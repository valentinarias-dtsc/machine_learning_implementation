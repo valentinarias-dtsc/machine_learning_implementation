{
 "cells": [
  {
   "cell_type": "markdown",
   "id": "9ad7cc23",
   "metadata": {},
   "source": [
    "# Regresión Logística\n",
    "Simulación de partida de ajedrez a partir de la posición Gambito Marshall."
   ]
  },
  {
   "cell_type": "code",
   "execution_count": null,
   "id": "3b6b45ca",
   "metadata": {},
   "outputs": [],
   "source": [
    "import numpy as np\n",
    "import pandas as pd\n",
    "import matplotlib.pyplot as plt\n",
    "from sklearn.model_selection import train_test_split\n",
    "\n",
    "import sys\n",
    "sys.path.append('././src')\n",
    "from logistic_regression import LogReg"
   ]
  },
  {
   "cell_type": "code",
   "execution_count": null,
   "id": "dd7afa42",
   "metadata": {},
   "outputs": [],
   "source": [
    "df = pd.read_csv('././data/chess_dataset.csv')\n",
    "X=df[[\"diff_pawn\",\t\"diff_knight\",\t\"diff_bishop\",\t\n",
    "      \"diff_rook\",\t\"diff_queen\",\"pst_pawn\",\t\"pst_knight\",\n",
    "          \t\"pst_bishop\",\t\"pst_rook\",\t\"pst_queen\"]]\n",
    "y=df[\"white_wins\"]"
   ]
  },
  {
   "cell_type": "code",
   "execution_count": null,
   "id": "ea9f1cf5",
   "metadata": {},
   "outputs": [],
   "source": [
    "clf = LogReg(max_iter=1000000)\n",
    "clf.fit(X, y)"
   ]
  },
  {
   "cell_type": "code",
   "execution_count": null,
   "id": "0c203a0c",
   "metadata": {},
   "outputs": [],
   "source": [
    "cm.run('././output/chess_game_0.gif', clf.theta)"
   ]
  }
 ],
 "metadata": {
  "kernelspec": {
   "display_name": "Python 3 (ipykernel)",
   "language": "python",
   "name": "python3"
  }
 },
 "nbformat": 4,
 "nbformat_minor": 5
}
