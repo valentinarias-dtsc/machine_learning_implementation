{
 "cells": [
  {
   "cell_type": "markdown",
   "id": "721b71a1",
   "metadata": {},
   "source": [
    "# Regresión Lineal Pesada\n",
    "### #Introducción, objetivo, y contexto#"
   ]
  },
  {
   "cell_type": "code",
   "execution_count": null,
   "id": "9dd70c04",
   "metadata": {},
   "outputs": [],
   "source": [
    "import numpy as np\n",
    "import pandas as pd\n",
    "import matplotlib.pyplot as plt\n",
    "from sklearn.model_selection import train_test_split\n",
    "from sklearn.metrics import mean_squared_error, accuracy_score\n",
    "\n",
    "import sys\n",
    "sys.path.append('././src')\n",
    "\n",
    "from lwlr import LW_LinReg, LW_LogReg"
   ]
  },
  {
   "cell_type": "code",
   "execution_count": null,
   "id": "84a8eda4",
   "metadata": {},
   "outputs": [],
   "source": [
    "# Cargamos los datos\n",
    "Data = pd.read_csv(\"././data/loess.csv\")\n",
    "\n",
    "# Separamos los features y la variable objetivo\n",
    "X = Data[\"X\"].values.reshape(-1, 1) # Aseguramos que X tenga la forma correcta\n",
    "y = Data[\"y\"].values\n",
    "\n",
    "# Dividimos los datos en conjunto de entrenamiento y prueba\n",
    "X_train, X_test, y_train, y_test = train_test_split(X, y, test_size=0.3, random_state=42)\n",
    "\n",
    "# Probamos el modelo de regresión lineal pesada con diferentes valores de tau\n",
    "taus = [0.005, 0.01, 0.1, 1, 10, 50]\n",
    "predictions = {tau: LW_LinReg(X_train, y_train, X_test, tau=tau) for tau in taus}"
   ]
  },
  {
   "cell_type": "code",
   "execution_count": null,
   "id": "6c89dfa7",
   "metadata": {},
   "outputs": [],
   "source": [
    "# Graficamos los resultados\n",
    "plt.figure(figsize=(15, 10))\n",
    "\n",
    "plt.scatter(X_test, y_test, color='black', label='Real', alpha=0.7)\n",
    "for tau, y_pred in predictions.items():\n",
    "    plt.scatter(X_test, y_pred, label=f\"tau={tau}\", alpha=0.5)\n",
    "\n",
    "plt.title(\"Predicciones de Regresión Lineal Pesada con Diferentes Valores de Tau\")\n",
    "plt.xlabel(\"X\")\n",
    "plt.ylabel(\"y\")\n",
    "plt.legend()\n",
    "plt.grid()\n",
    "plt.show()"
   ]
  },
  {
   "cell_type": "code",
   "execution_count": null,
   "id": "a42b5204",
   "metadata": {},
   "outputs": [],
   "source": [
    "# Calculamos el MSE para cada valor de tau\n",
    "print(\"\\nMSE en test para cada tau:\")\n",
    "for tau, y_pred in predictions.items():\n",
    "    mse = mean_squared_error(y_test, y_pred)\n",
    "    print(f\"τ = {tau:<5}  ->  MSE: {mse:.4f}\")"
   ]
  },
  {
   "cell_type": "markdown",
   "id": "e60a1ae0",
   "metadata": {},
   "source": []
  },
  {
   "cell_type": "code",
   "execution_count": null,
   "id": "2a954e5a",
   "metadata": {},
   "outputs": [],
   "source": [
    "# Cargamos los datos de clasificación\n",
    "Data = pd.read_csv(\"././data/dataset_clasificacion.csv\")\n",
    "\n",
    "# Separamos los features y la variable objetivo\n",
    "X = Data[[\"X1\", \"X2\"]].values\n",
    "y = Data[\"Clase\"].values\n",
    "\n",
    "# Dividimos los datos en conjunto de entrenamiento y prueba\n",
    "X_train, X_test, y_train, y_test = train_test_split(X, y, test_size=0.3, random_state=42)"
   ]
  },
  {
   "cell_type": "markdown",
   "id": "0a7b4aaa",
   "metadata": {},
   "source": [
    "## original, luego se cambia"
   ]
  },
  {
   "cell_type": "code",
   "execution_count": null,
   "id": "f050555e",
   "metadata": {},
   "outputs": [],
   "source": [
    "# Función para graficar la frontera\n",
    "def plot_lwlr_decision_boundary(X_train, y_train, tau, title):\n",
    "    h = 0.3  # resolución baja para acelerar\n",
    "    x_min, x_max = X[:, 0].min() - .5, X[:, 0].max() + .5\n",
    "    y_min, y_max = X[:, 1].min() - .5, X[:, 1].max() + .5\n",
    "    xx, yy = np.meshgrid(np.arange(x_min, x_max, h),\n",
    "                         np.arange(y_min, y_max, h))\n",
    "    grid = np.c_[xx.ravel(), yy.ravel()]\n",
    "\n",
    "    # Tomar muestra de puntos\n",
    "    np.random.seed(0)\n",
    "    sample_indices = np.random.choice(len(grid), size=200, replace=False)\n",
    "    grid_sampled = grid[sample_indices]\n",
    "    Z_sampled = LW_LogReg(X_train, y_train, grid, tau, max_iter=100, lr=0.01)\n",
    "\n",
    "    # Malla con NaN y rellenar los puntos calculados\n",
    "    Z_full = np.full(xx.shape, np.nan)\n",
    "    for idx, (x_val, y_val) in enumerate(grid):\n",
    "        i = int((y_val - y_min) / h) \n",
    "        j = int((x_val - x_min) / h)\n",
    "        if 0 <= i < Z_full.shape[0] and 0 <= j < Z_full.shape[1]:\n",
    "            Z_full[i, j] = Z_sampled[idx]\n",
    "      \n",
    "    # Graficamos\n",
    "    plt.figure(figsize=(8, 6))\n",
    "    plt.contourf(xx, yy, Z_full, alpha=0.4, cmap='RdBu')\n",
    "    plt.scatter(X_train[:, 0], X_train[:, 1], c=y_train, edgecolor='k', cmap='RdBu', alpha=0.7)\n",
    "    plt.title(title)\n",
    "    plt.xlabel(\"X1\")\n",
    "    plt.ylabel(\"X2\")\n",
    "    plt.tight_layout()\n",
    "    plt.show()\n",
    "\n",
    "\n",
    "# Ejecutar para distintos τ\n",
    "taus = [0.01, 0.1, 1, 10]\n",
    "for tau in taus:\n",
    "    plot_lwlr_decision_boundary(X_train, y_train, tau, title=f\"Frontera de Decisión - τ = {tau}\")"
   ]
  }
 ],
 "metadata": {
  "kernelspec": {
   "display_name": "Python 3 (ipykernel)",
   "language": "python",
   "name": "python3"
  }
 },
 "nbformat": 4,
 "nbformat_minor": 5
}
