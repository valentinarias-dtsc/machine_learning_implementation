{
 "cells": [
  {
   "cell_type": "markdown",
   "id": "b204f383",
   "metadata": {},
   "source": [
    "# Regresión Polinómica\n",
    "\n",
    "### #Introducción, objetivo, y contexto#"
   ]
  },
  {
   "cell_type": "code",
   "execution_count": 1,
   "id": "f5d0fd03",
   "metadata": {},
   "outputs": [],
   "source": [
    "import numpy as np\n",
    "import pandas as pd\n",
    "import matplotlib.pyplot as plt\n",
    "from sklearn.model_selection import train_test_split\n",
    "\n",
    "import sys\n",
    "sys.path.append('././src')\n",
    "from linear_regression import LinReg"
   ]
  },
  {
   "cell_type": "code",
   "execution_count": 10,
   "id": "979c9c93",
   "metadata": {},
   "outputs": [
    {
     "ename": "KeyError",
     "evalue": "'period'",
     "output_type": "error",
     "traceback": [
      "\u001b[31m---------------------------------------------------------------------------\u001b[39m",
      "\u001b[31mKeyError\u001b[39m                                  Traceback (most recent call last)",
      "\u001b[36mFile \u001b[39m\u001b[32m~/.local/lib/python3.12/site-packages/pandas/core/indexes/base.py:3812\u001b[39m, in \u001b[36mIndex.get_loc\u001b[39m\u001b[34m(self, key)\u001b[39m\n\u001b[32m   3811\u001b[39m \u001b[38;5;28;01mtry\u001b[39;00m:\n\u001b[32m-> \u001b[39m\u001b[32m3812\u001b[39m     \u001b[38;5;28;01mreturn\u001b[39;00m \u001b[38;5;28;43mself\u001b[39;49m\u001b[43m.\u001b[49m\u001b[43m_engine\u001b[49m\u001b[43m.\u001b[49m\u001b[43mget_loc\u001b[49m\u001b[43m(\u001b[49m\u001b[43mcasted_key\u001b[49m\u001b[43m)\u001b[49m\n\u001b[32m   3813\u001b[39m \u001b[38;5;28;01mexcept\u001b[39;00m \u001b[38;5;167;01mKeyError\u001b[39;00m \u001b[38;5;28;01mas\u001b[39;00m err:\n",
      "\u001b[36mFile \u001b[39m\u001b[32mpandas/_libs/index.pyx:167\u001b[39m, in \u001b[36mpandas._libs.index.IndexEngine.get_loc\u001b[39m\u001b[34m()\u001b[39m\n",
      "\u001b[36mFile \u001b[39m\u001b[32mpandas/_libs/index.pyx:196\u001b[39m, in \u001b[36mpandas._libs.index.IndexEngine.get_loc\u001b[39m\u001b[34m()\u001b[39m\n",
      "\u001b[36mFile \u001b[39m\u001b[32mpandas/_libs/hashtable_class_helper.pxi:7088\u001b[39m, in \u001b[36mpandas._libs.hashtable.PyObjectHashTable.get_item\u001b[39m\u001b[34m()\u001b[39m\n",
      "\u001b[36mFile \u001b[39m\u001b[32mpandas/_libs/hashtable_class_helper.pxi:7096\u001b[39m, in \u001b[36mpandas._libs.hashtable.PyObjectHashTable.get_item\u001b[39m\u001b[34m()\u001b[39m\n",
      "\u001b[31mKeyError\u001b[39m: 'period'",
      "\nThe above exception was the direct cause of the following exception:\n",
      "\u001b[31mKeyError\u001b[39m                                  Traceback (most recent call last)",
      "\u001b[36mCell\u001b[39m\u001b[36m \u001b[39m\u001b[32mIn[10]\u001b[39m\u001b[32m, line 5\u001b[39m\n\u001b[32m      2\u001b[39m Data = pd.read_csv(\u001b[33m'\u001b[39m\u001b[33m././data/dataset_regresion.csv\u001b[39m\u001b[33m'\u001b[39m, parse_dates=[\u001b[32m0\u001b[39m], date_format=\u001b[33m'\u001b[39m\u001b[38;5;132;01m%d\u001b[39;00m\u001b[33m.\u001b[39m\u001b[33m%\u001b[39m\u001b[33mm.\u001b[39m\u001b[33m%\u001b[39m\u001b[33mY\u001b[39m\u001b[33m'\u001b[39m)\n\u001b[32m      4\u001b[39m \u001b[38;5;66;03m# Graficamos y echamos un vistazo a los datos\u001b[39;00m\n\u001b[32m----> \u001b[39m\u001b[32m5\u001b[39m \u001b[43mData\u001b[49m\u001b[43m.\u001b[49m\u001b[43mplot\u001b[49m\u001b[43m(\u001b[49m\u001b[43mx\u001b[49m\u001b[43m=\u001b[49m\u001b[33;43m'\u001b[39;49m\u001b[33;43mperiod\u001b[39;49m\u001b[33;43m'\u001b[39;49m\u001b[43m,\u001b[49m\u001b[43m \u001b[49m\u001b[43my\u001b[49m\u001b[43m=\u001b[49m\u001b[33;43m'\u001b[39;49m\u001b[33;43msales_quantity\u001b[39;49m\u001b[33;43m'\u001b[39;49m\u001b[43m,\u001b[49m\u001b[43m \u001b[49m\u001b[43mxticks\u001b[49m\u001b[43m=\u001b[49m\u001b[43m[\u001b[49m\u001b[43m]\u001b[49m\u001b[43m,\u001b[49m\u001b[43m \u001b[49m\u001b[43mstyle\u001b[49m\u001b[43m=\u001b[49m\u001b[33;43m'\u001b[39;49m\u001b[33;43m--\u001b[39;49m\u001b[33;43m'\u001b[39;49m\u001b[43m)\u001b[49m\n\u001b[32m      6\u001b[39m Data.head()\n",
      "\u001b[36mFile \u001b[39m\u001b[32m~/.local/lib/python3.12/site-packages/pandas/plotting/_core.py:995\u001b[39m, in \u001b[36mPlotAccessor.__call__\u001b[39m\u001b[34m(self, *args, **kwargs)\u001b[39m\n\u001b[32m    993\u001b[39m \u001b[38;5;28;01mif\u001b[39;00m is_integer(x) \u001b[38;5;129;01mand\u001b[39;00m \u001b[38;5;129;01mnot\u001b[39;00m data.columns._holds_integer():\n\u001b[32m    994\u001b[39m     x = data_cols[x]\n\u001b[32m--> \u001b[39m\u001b[32m995\u001b[39m \u001b[38;5;28;01melif\u001b[39;00m \u001b[38;5;129;01mnot\u001b[39;00m \u001b[38;5;28misinstance\u001b[39m(\u001b[43mdata\u001b[49m\u001b[43m[\u001b[49m\u001b[43mx\u001b[49m\u001b[43m]\u001b[49m, ABCSeries):\n\u001b[32m    996\u001b[39m     \u001b[38;5;28;01mraise\u001b[39;00m \u001b[38;5;167;01mValueError\u001b[39;00m(\u001b[33m\"\u001b[39m\u001b[33mx must be a label or position\u001b[39m\u001b[33m\"\u001b[39m)\n\u001b[32m    997\u001b[39m data = data.set_index(x)\n",
      "\u001b[36mFile \u001b[39m\u001b[32m~/.local/lib/python3.12/site-packages/pandas/core/frame.py:4107\u001b[39m, in \u001b[36mDataFrame.__getitem__\u001b[39m\u001b[34m(self, key)\u001b[39m\n\u001b[32m   4105\u001b[39m \u001b[38;5;28;01mif\u001b[39;00m \u001b[38;5;28mself\u001b[39m.columns.nlevels > \u001b[32m1\u001b[39m:\n\u001b[32m   4106\u001b[39m     \u001b[38;5;28;01mreturn\u001b[39;00m \u001b[38;5;28mself\u001b[39m._getitem_multilevel(key)\n\u001b[32m-> \u001b[39m\u001b[32m4107\u001b[39m indexer = \u001b[38;5;28;43mself\u001b[39;49m\u001b[43m.\u001b[49m\u001b[43mcolumns\u001b[49m\u001b[43m.\u001b[49m\u001b[43mget_loc\u001b[49m\u001b[43m(\u001b[49m\u001b[43mkey\u001b[49m\u001b[43m)\u001b[49m\n\u001b[32m   4108\u001b[39m \u001b[38;5;28;01mif\u001b[39;00m is_integer(indexer):\n\u001b[32m   4109\u001b[39m     indexer = [indexer]\n",
      "\u001b[36mFile \u001b[39m\u001b[32m~/.local/lib/python3.12/site-packages/pandas/core/indexes/base.py:3819\u001b[39m, in \u001b[36mIndex.get_loc\u001b[39m\u001b[34m(self, key)\u001b[39m\n\u001b[32m   3814\u001b[39m     \u001b[38;5;28;01mif\u001b[39;00m \u001b[38;5;28misinstance\u001b[39m(casted_key, \u001b[38;5;28mslice\u001b[39m) \u001b[38;5;129;01mor\u001b[39;00m (\n\u001b[32m   3815\u001b[39m         \u001b[38;5;28misinstance\u001b[39m(casted_key, abc.Iterable)\n\u001b[32m   3816\u001b[39m         \u001b[38;5;129;01mand\u001b[39;00m \u001b[38;5;28many\u001b[39m(\u001b[38;5;28misinstance\u001b[39m(x, \u001b[38;5;28mslice\u001b[39m) \u001b[38;5;28;01mfor\u001b[39;00m x \u001b[38;5;129;01min\u001b[39;00m casted_key)\n\u001b[32m   3817\u001b[39m     ):\n\u001b[32m   3818\u001b[39m         \u001b[38;5;28;01mraise\u001b[39;00m InvalidIndexError(key)\n\u001b[32m-> \u001b[39m\u001b[32m3819\u001b[39m     \u001b[38;5;28;01mraise\u001b[39;00m \u001b[38;5;167;01mKeyError\u001b[39;00m(key) \u001b[38;5;28;01mfrom\u001b[39;00m\u001b[38;5;250m \u001b[39m\u001b[34;01merr\u001b[39;00m\n\u001b[32m   3820\u001b[39m \u001b[38;5;28;01mexcept\u001b[39;00m \u001b[38;5;167;01mTypeError\u001b[39;00m:\n\u001b[32m   3821\u001b[39m     \u001b[38;5;66;03m# If we have a listlike key, _check_indexing_error will raise\u001b[39;00m\n\u001b[32m   3822\u001b[39m     \u001b[38;5;66;03m#  InvalidIndexError. Otherwise we fall through and re-raise\u001b[39;00m\n\u001b[32m   3823\u001b[39m     \u001b[38;5;66;03m#  the TypeError.\u001b[39;00m\n\u001b[32m   3824\u001b[39m     \u001b[38;5;28mself\u001b[39m._check_indexing_error(key)\n",
      "\u001b[31mKeyError\u001b[39m: 'period'"
     ]
    }
   ],
   "source": [
    "# Cargamos los datos\n",
    "Data = pd.read_csv('././data/dataset_regresion.csv', parse_dates=[0], date_format='%d.%m.%Y')\n",
    "\n",
    "# Graficamos y echamos un vistazo a los datos\n",
    "Data.plot(x='period', y='sales_quantity', xticks=[], style='--')\n",
    "Data.head()"
   ]
  },
  {
   "cell_type": "markdown",
   "id": "ab679e40",
   "metadata": {},
   "source": [
    "### estacionalidad, por qué es un problema y cómo se soluciona"
   ]
  },
  {
   "cell_type": "code",
   "execution_count": null,
   "id": "19a44f87",
   "metadata": {},
   "outputs": [],
   "source": [
    "# Aplicamos una transformación básica de media móvil\n",
    "Data['moving_avg'] = Data['sales_quantity'].shift(1).rolling(window=6, center=False).mean()\n",
    "Data['deseasonalized'] = Data['sales_quantity'] - Data['moving_avg']\n",
    "\n",
    "# Graficamos el resultado\n",
    "Data.plot(x='period', y='deseasonalized', xticks=[], style='--')"
   ]
  },
  {
   "cell_type": "markdown",
   "id": "dad10508",
   "metadata": {},
   "source": [
    "## hay que agregar transformaciones polinómicas, probar y quedarnos con el que de el mejor score"
   ]
  },
  {
   "cell_type": "code",
   "execution_count": null,
   "id": "de03a7e5",
   "metadata": {},
   "outputs": [],
   "source": [
    "# Creamos variables dummy para los meses\n",
    "month_dummies = pd.get_dummies(Data['period'].dt.month_name(), prefix='month', drop_first=True)\n",
    "month_dummies = month_dummies.astype(int)\n",
    "Data = pd.concat([Data, month_dummies], axis=1)\n",
    "\n",
    "# Creamos las variables de rezago\n",
    "lags = []\n",
    "for i in range(1, 6):\n",
    "    Data[f'Lag_{i}'] = Data['deseasonalized'].shift(i)\n",
    "    lags.append(f'Lag_{i}')\n",
    "\n",
    "# Eliminamos los valores nulos\n",
    "Data.dropna(inplace=True)"
   ]
  },
  {
   "cell_type": "code",
   "execution_count": null,
   "id": "99bdd83a",
   "metadata": {},
   "outputs": [],
   "source": [
    "# Dividimos los datos en conjuntos de entrenamiento y prueba\n",
    "train, test = train_test_split(Data, test_size=0.2, shuffle=False) # Mantener el orden temporal\n",
    "\n",
    "# Definimos las características y el objetivo\n",
    "features = lags + list(month_dummies.columns)\n",
    "target = 'deseasonalized'\n",
    "\n",
    "# Entrenamos el modelo\n",
    "model = LinReg(verbose=True)\n",
    "model.fit(train[features], train[target])\n",
    "\n",
    "# Imprimimos el error cuadrático medio\n",
    "print(f'Error cuadrático medio: {model.score(test[features], test[target])}')"
   ]
  },
  {
   "cell_type": "code",
   "execution_count": null,
   "id": "43509f68",
   "metadata": {},
   "outputs": [],
   "source": [
    "# Realizamos la predicción\n",
    "test['y_pred'] = model.predict(test[features])\n",
    "\n",
    "# Miro las predicciones\n",
    "plt.plot(test[\"period\"], test[target], '--', c='Blue', label='Real', alpha=0.4)\n",
    "plt.plot(test[\"period\"], test['y_pred'], '--', c='Red', label='Predicción')\n",
    "plt.legend()\n",
    "plt.show()\n",
    "\n",
    "# Imprimo el resumen de las predicciones\n",
    "test[['deseasonalized', 'Prediccion']].describe()"
   ]
  },
  {
   "cell_type": "markdown",
   "id": "3ed47e1f",
   "metadata": {},
   "source": [
    "### observaciones y conclusiones"
   ]
  }
 ],
 "metadata": {
  "kernelspec": {
   "display_name": "Python 3 (ipykernel)",
   "language": "python",
   "name": "python3"
  },
  "language_info": {
   "codemirror_mode": {
    "name": "ipython",
    "version": 3
   },
   "file_extension": ".py",
   "mimetype": "text/x-python",
   "name": "python",
   "nbconvert_exporter": "python",
   "pygments_lexer": "ipython3",
   "version": "3.12.1"
  }
 },
 "nbformat": 4,
 "nbformat_minor": 5
}
