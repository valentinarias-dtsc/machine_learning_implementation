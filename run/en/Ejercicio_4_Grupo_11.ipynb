{
 "cells": [
  {
   "cell_type": "code",
   "execution_count": 44,
   "id": "6fc964d7-b430-41e9-883f-22563727bd68",
   "metadata": {},
   "outputs": [],
   "source": [
    "#Cargamos las bibliotecas\n",
    "import pandas as pd\n",
    "import numpy as np\n",
    "import re\n",
    "import nltk \n",
    "nltk.download('stopwords',quiet=True)\n",
    "nltk.download('wordnet',quiet=True)\n",
    "nltk.download('omw-1.4',quiet=True)\n",
    "from nltk.stem import WordNetLemmatizer\n",
    "from sklearn.model_selection import train_test_split\n",
    "from sklearn.feature_extraction.text import CountVectorizer\n",
    "from sklearn import metrics\n",
    "from sklearn.metrics import confusion_matrix \n",
    "from sklearn.metrics import accuracy_score\n",
    "import matplotlib.pyplot as plt \n",
    "import itertools\n",
    "from scipy.sparse import issparse"
   ]
  },
  {
   "cell_type": "code",
   "execution_count": 45,
   "id": "dff8a610-4e54-4508-96fe-f16b5166383f",
   "metadata": {},
   "outputs": [],
   "source": [
    "# Definimos la implementación MultinomialNB\n",
    "class MultinomialNB:\n",
    "    def __init__(self): #Inicializa el clasificador\n",
    "        self.trained = 0\n",
    "\n",
    "    def fit(self, X, y, alpha=1.0): # Entrena el modelo usando la matriz de características X, el vector de etiquetas y, # y el parámetro de suavizado de Laplace alpha.\n",
    "        self.alpha = alpha \n",
    "        if issparse(X):  # Verificamos si X es un objeto disperso; de ser así, lo convertimos a denso\n",
    "            X = X.toarray()\n",
    "        y = np.array(y)  # Aseguramos que y es un array NumPy\n",
    "        \n",
    "        # Extraemos las clases únicas\n",
    "        self.K = np.unique(y)\n",
    "        n_K = len(self.K)\n",
    "        n_features = X.shape[1]\n",
    "        \n",
    "        # Inicializamos el contador de documentos por clase\n",
    "        self.n_clases = np.zeros(n_K, dtype=np.float64)\n",
    "        \n",
    "        # Inicializamos la matriz de conteos de cada caracteristica por cada clase\n",
    "        self.n_features = np.zeros((n_K, n_features), dtype=np.float64)\n",
    "        \n",
    "        # Iteramos sobre cada clase para acumular los conteos\n",
    "        for id, k in enumerate(self.K):\n",
    "            \n",
    "            # Seleccionamos las muestras que pertenecen a la clase actual\n",
    "            X_c = X[y == k]\n",
    "            \n",
    "            # Sumamos las ocurrencias de cada término para esta clase\n",
    "            self.n_features[id, :] = X_c.sum(axis=0)\n",
    "            \n",
    "            # Contamos el número de documentos en esta clase\n",
    "            self.n_clases[id] = X_c.shape[0]\n",
    "            \n",
    "            # Calculamos la probabilidad y luego el logaritmo\n",
    "        self.log_priors = np.log(self.n_clases / np.sum(self.n_clases))\n",
    "        \n",
    "        # Aplicamos el suavizado de Laplace a los conteos de cada característica\n",
    "        suavizado_fc = self.n_features + self.alpha\n",
    "        \n",
    "        # Calculamos el total de ocurrencias (suavizadas) de todas las palabras por clase\n",
    "        suavizado_cc = suavizado_fc.sum(axis=1)\n",
    "        \n",
    "        # Calculamos la log-probabilidad de cada término\n",
    "        self.log_probs = np.log(suavizado_fc) - np.log(suavizado_cc.reshape(-1, 1))\n",
    "\n",
    "        # Marcamos el modelo como entrenado\n",
    "        self.trained = 1\n",
    "        print(\"Modelo entrenado con éxito.\")\n",
    "        \n",
    "    def log_prob_pred(self, X): #Calcula la probabilidad de que cada muestra en X pertenezca a cada clase\n",
    "        if not self.trained:\n",
    "            raise ValueError(\"El modelo no ha sido entrenado.\")\n",
    "        \n",
    "        if issparse(X):\n",
    "            X = X.toarray()\n",
    "\n",
    "        log_probs = X.dot(self.log_probs.T) + self.log_priors\n",
    "        return log_probs\n",
    "        \n",
    "    def predict(self, X): #Predice la clase para cada muestra en X, eligiendo aquella con la mayor log-probabilidad\n",
    "        if not self.trained:\n",
    "            raise ValueError(\"El modelo no ha sido entrenado.\")\n",
    "\n",
    "        # Calculamos las log-probabilidades para cada clase\n",
    "        log_probs = self.log_prob_pred(X)\n",
    "        # Para cada muestra, seleccionamos el índice de la clase con mayor log-probabilidad\n",
    "        return self.K[np.argmax(log_probs, axis=1)]"
   ]
  },
  {
   "cell_type": "code",
   "execution_count": 46,
   "id": "9afe4708-fde5-48dd-9a61-af60859152f2",
   "metadata": {
    "scrolled": true
   },
   "outputs": [
    {
     "data": {
      "text/html": [
       "<div>\n",
       "<style scoped>\n",
       "    .dataframe tbody tr th:only-of-type {\n",
       "        vertical-align: middle;\n",
       "    }\n",
       "\n",
       "    .dataframe tbody tr th {\n",
       "        vertical-align: top;\n",
       "    }\n",
       "\n",
       "    .dataframe thead th {\n",
       "        text-align: right;\n",
       "    }\n",
       "</style>\n",
       "<table border=\"1\" class=\"dataframe\">\n",
       "  <thead>\n",
       "    <tr style=\"text-align: right;\">\n",
       "      <th></th>\n",
       "      <th>_unit_id</th>\n",
       "      <th>_golden</th>\n",
       "      <th>_unit_state</th>\n",
       "      <th>_trusted_judgments</th>\n",
       "      <th>_last_judgment_at</th>\n",
       "      <th>positivity</th>\n",
       "      <th>positivity:confidence</th>\n",
       "      <th>relevance</th>\n",
       "      <th>relevance:confidence</th>\n",
       "      <th>articleid</th>\n",
       "      <th>date</th>\n",
       "      <th>headline</th>\n",
       "      <th>positivity_gold</th>\n",
       "      <th>relevance_gold</th>\n",
       "      <th>text</th>\n",
       "    </tr>\n",
       "  </thead>\n",
       "  <tbody>\n",
       "    <tr>\n",
       "      <th>0</th>\n",
       "      <td>842613455</td>\n",
       "      <td>False</td>\n",
       "      <td>finalized</td>\n",
       "      <td>3</td>\n",
       "      <td>12/5/15 17:48</td>\n",
       "      <td>3.0</td>\n",
       "      <td>0.6400</td>\n",
       "      <td>yes</td>\n",
       "      <td>0.640</td>\n",
       "      <td>wsj_398217788</td>\n",
       "      <td>8/14/91</td>\n",
       "      <td>Yields on CDs Fell in the Latest Week</td>\n",
       "      <td>NaN</td>\n",
       "      <td>NaN</td>\n",
       "      <td>NEW YORK -- Yields on most certificates of dep...</td>\n",
       "    </tr>\n",
       "    <tr>\n",
       "      <th>1</th>\n",
       "      <td>842613456</td>\n",
       "      <td>False</td>\n",
       "      <td>finalized</td>\n",
       "      <td>3</td>\n",
       "      <td>12/5/15 16:54</td>\n",
       "      <td>NaN</td>\n",
       "      <td>NaN</td>\n",
       "      <td>no</td>\n",
       "      <td>1.000</td>\n",
       "      <td>wsj_399019502</td>\n",
       "      <td>8/21/07</td>\n",
       "      <td>The Morning Brief: White House Seeks to Limit ...</td>\n",
       "      <td>NaN</td>\n",
       "      <td>NaN</td>\n",
       "      <td>The Wall Street Journal Online&lt;/br&gt;&lt;/br&gt;The Mo...</td>\n",
       "    </tr>\n",
       "    <tr>\n",
       "      <th>2</th>\n",
       "      <td>842613457</td>\n",
       "      <td>False</td>\n",
       "      <td>finalized</td>\n",
       "      <td>3</td>\n",
       "      <td>12/5/15 1:59</td>\n",
       "      <td>NaN</td>\n",
       "      <td>NaN</td>\n",
       "      <td>no</td>\n",
       "      <td>1.000</td>\n",
       "      <td>wsj_398284048</td>\n",
       "      <td>11/14/91</td>\n",
       "      <td>Banking Bill Negotiators Set Compromise --- Pl...</td>\n",
       "      <td>NaN</td>\n",
       "      <td>NaN</td>\n",
       "      <td>WASHINGTON -- In an effort to achieve banking ...</td>\n",
       "    </tr>\n",
       "    <tr>\n",
       "      <th>3</th>\n",
       "      <td>842613458</td>\n",
       "      <td>False</td>\n",
       "      <td>finalized</td>\n",
       "      <td>3</td>\n",
       "      <td>12/5/15 2:19</td>\n",
       "      <td>NaN</td>\n",
       "      <td>0.0000</td>\n",
       "      <td>no</td>\n",
       "      <td>0.675</td>\n",
       "      <td>wsj_397959018</td>\n",
       "      <td>6/16/86</td>\n",
       "      <td>Manager's Journal: Sniffing Out Drug Abusers I...</td>\n",
       "      <td>NaN</td>\n",
       "      <td>NaN</td>\n",
       "      <td>The statistics on the enormous costs of employ...</td>\n",
       "    </tr>\n",
       "    <tr>\n",
       "      <th>4</th>\n",
       "      <td>842613459</td>\n",
       "      <td>False</td>\n",
       "      <td>finalized</td>\n",
       "      <td>3</td>\n",
       "      <td>12/5/15 17:48</td>\n",
       "      <td>3.0</td>\n",
       "      <td>0.3257</td>\n",
       "      <td>yes</td>\n",
       "      <td>0.640</td>\n",
       "      <td>wsj_398838054</td>\n",
       "      <td>10/4/02</td>\n",
       "      <td>Currency Trading: Dollar Remains in Tight Rang...</td>\n",
       "      <td>NaN</td>\n",
       "      <td>NaN</td>\n",
       "      <td>NEW YORK -- Indecision marked the dollar's ton...</td>\n",
       "    </tr>\n",
       "  </tbody>\n",
       "</table>\n",
       "</div>"
      ],
      "text/plain": [
       "    _unit_id  _golden _unit_state  _trusted_judgments _last_judgment_at  \\\n",
       "0  842613455    False   finalized                   3     12/5/15 17:48   \n",
       "1  842613456    False   finalized                   3     12/5/15 16:54   \n",
       "2  842613457    False   finalized                   3      12/5/15 1:59   \n",
       "3  842613458    False   finalized                   3      12/5/15 2:19   \n",
       "4  842613459    False   finalized                   3     12/5/15 17:48   \n",
       "\n",
       "   positivity  positivity:confidence relevance  relevance:confidence  \\\n",
       "0         3.0                 0.6400       yes                 0.640   \n",
       "1         NaN                    NaN        no                 1.000   \n",
       "2         NaN                    NaN        no                 1.000   \n",
       "3         NaN                 0.0000        no                 0.675   \n",
       "4         3.0                 0.3257       yes                 0.640   \n",
       "\n",
       "       articleid      date                                           headline  \\\n",
       "0  wsj_398217788   8/14/91              Yields on CDs Fell in the Latest Week   \n",
       "1  wsj_399019502   8/21/07  The Morning Brief: White House Seeks to Limit ...   \n",
       "2  wsj_398284048  11/14/91  Banking Bill Negotiators Set Compromise --- Pl...   \n",
       "3  wsj_397959018   6/16/86  Manager's Journal: Sniffing Out Drug Abusers I...   \n",
       "4  wsj_398838054   10/4/02  Currency Trading: Dollar Remains in Tight Rang...   \n",
       "\n",
       "   positivity_gold  relevance_gold  \\\n",
       "0              NaN             NaN   \n",
       "1              NaN             NaN   \n",
       "2              NaN             NaN   \n",
       "3              NaN             NaN   \n",
       "4              NaN             NaN   \n",
       "\n",
       "                                                text  \n",
       "0  NEW YORK -- Yields on most certificates of dep...  \n",
       "1  The Wall Street Journal Online</br></br>The Mo...  \n",
       "2  WASHINGTON -- In an effort to achieve banking ...  \n",
       "3  The statistics on the enormous costs of employ...  \n",
       "4  NEW YORK -- Indecision marked the dollar's ton...  "
      ]
     },
     "execution_count": 46,
     "metadata": {},
     "output_type": "execute_result"
    }
   ],
   "source": [
    "#Cargamos el dataset\n",
    "datos = pd.read_csv(\"Datos/US-Economic-News.csv\", encoding='ISO-8859-1')\n",
    "datos.head()\n"
   ]
  },
  {
   "cell_type": "code",
   "execution_count": 47,
   "id": "409e9706-f2c3-4355-bdfc-2e28ae04a1b3",
   "metadata": {},
   "outputs": [
    {
     "name": "stdout",
     "output_type": "stream",
     "text": [
      "<class 'pandas.core.frame.DataFrame'>\n",
      "RangeIndex: 8000 entries, 0 to 7999\n",
      "Data columns (total 15 columns):\n",
      " #   Column                 Non-Null Count  Dtype  \n",
      "---  ------                 --------------  -----  \n",
      " 0   _unit_id               8000 non-null   int64  \n",
      " 1   _golden                8000 non-null   bool   \n",
      " 2   _unit_state            8000 non-null   object \n",
      " 3   _trusted_judgments     8000 non-null   int64  \n",
      " 4   _last_judgment_at      8000 non-null   object \n",
      " 5   positivity             1420 non-null   float64\n",
      " 6   positivity:confidence  3775 non-null   float64\n",
      " 7   relevance              8000 non-null   object \n",
      " 8   relevance:confidence   8000 non-null   float64\n",
      " 9   articleid              8000 non-null   object \n",
      " 10  date                   8000 non-null   object \n",
      " 11  headline               8000 non-null   object \n",
      " 12  positivity_gold        0 non-null      float64\n",
      " 13  relevance_gold         0 non-null      float64\n",
      " 14  text                   8000 non-null   object \n",
      "dtypes: bool(1), float64(5), int64(2), object(7)\n",
      "memory usage: 882.9+ KB\n"
     ]
    }
   ],
   "source": [
    "datos.info()"
   ]
  },
  {
   "cell_type": "code",
   "execution_count": 48,
   "id": "bf54288a-fb6c-4838-ae2c-e8461f7d4dc3",
   "metadata": {},
   "outputs": [
    {
     "data": {
      "text/plain": [
       "relevance\n",
       "no          6571\n",
       "yes         1420\n",
       "not sure       9\n",
       "Name: count, dtype: int64"
      ]
     },
     "execution_count": 48,
     "metadata": {},
     "output_type": "execute_result"
    }
   ],
   "source": [
    "#Contamos la cantidad de \"si\", \"no\" y \"not sure\"\n",
    "datos['relevance'].value_counts()"
   ]
  },
  {
   "cell_type": "code",
   "execution_count": 49,
   "id": "5fd3516c-7577-4fa9-8db9-9bff82a8d663",
   "metadata": {},
   "outputs": [
    {
     "data": {
      "text/plain": [
       "(7991, 15)"
      ]
     },
     "execution_count": 49,
     "metadata": {},
     "output_type": "execute_result"
    }
   ],
   "source": [
    "#Eliminamos las filas \"not sure\"\n",
    "datos = datos[datos.relevance != \"not sure\"]\n",
    "datos.shape"
   ]
  },
  {
   "cell_type": "code",
   "execution_count": 50,
   "id": "7c2e2342-b3a8-4763-bc7b-0bb88ef4e0a3",
   "metadata": {},
   "outputs": [
    {
     "data": {
      "text/plain": [
       "relevance\n",
       "no     6571\n",
       "yes    1420\n",
       "Name: count, dtype: int64"
      ]
     },
     "execution_count": 50,
     "metadata": {},
     "output_type": "execute_result"
    }
   ],
   "source": [
    "datos['relevance'].value_counts()"
   ]
  },
  {
   "cell_type": "code",
   "execution_count": 51,
   "id": "366f3ed0-df3f-4c1f-bdde-0dd202444be0",
   "metadata": {},
   "outputs": [],
   "source": [
    "#Convertimos la variable objetivo categórica ('relevance') a formato numérico,\"yes\"=1 y \"no\"=0\n",
    "datos['relevance'] = datos['relevance'].map({'yes':1, 'no':0})"
   ]
  },
  {
   "cell_type": "code",
   "execution_count": 52,
   "id": "800632dd-4bf2-4594-a2f2-60ee685b6007",
   "metadata": {},
   "outputs": [
    {
     "data": {
      "text/plain": [
       "(7991, 2)"
      ]
     },
     "execution_count": 52,
     "metadata": {},
     "output_type": "execute_result"
    }
   ],
   "source": [
    "#Nos quedamos solo con las culumnas \"text\" y \"relevance\"\n",
    "datos = datos[['text', 'relevance']]\n",
    "datos.shape"
   ]
  },
  {
   "cell_type": "code",
   "execution_count": 53,
   "id": "e30d11e4-dff1-4dc4-a7ab-c175d9bd0fe0",
   "metadata": {},
   "outputs": [
    {
     "data": {
      "text/html": [
       "<div>\n",
       "<style scoped>\n",
       "    .dataframe tbody tr th:only-of-type {\n",
       "        vertical-align: middle;\n",
       "    }\n",
       "\n",
       "    .dataframe tbody tr th {\n",
       "        vertical-align: top;\n",
       "    }\n",
       "\n",
       "    .dataframe thead th {\n",
       "        text-align: right;\n",
       "    }\n",
       "</style>\n",
       "<table border=\"1\" class=\"dataframe\">\n",
       "  <thead>\n",
       "    <tr style=\"text-align: right;\">\n",
       "      <th></th>\n",
       "      <th>text</th>\n",
       "      <th>relevance</th>\n",
       "    </tr>\n",
       "  </thead>\n",
       "  <tbody>\n",
       "    <tr>\n",
       "      <th>0</th>\n",
       "      <td>NEW YORK -- Yields on most certificates of dep...</td>\n",
       "      <td>1</td>\n",
       "    </tr>\n",
       "    <tr>\n",
       "      <th>1</th>\n",
       "      <td>The Wall Street Journal Online&lt;/br&gt;&lt;/br&gt;The Mo...</td>\n",
       "      <td>0</td>\n",
       "    </tr>\n",
       "    <tr>\n",
       "      <th>2</th>\n",
       "      <td>WASHINGTON -- In an effort to achieve banking ...</td>\n",
       "      <td>0</td>\n",
       "    </tr>\n",
       "    <tr>\n",
       "      <th>3</th>\n",
       "      <td>The statistics on the enormous costs of employ...</td>\n",
       "      <td>0</td>\n",
       "    </tr>\n",
       "    <tr>\n",
       "      <th>4</th>\n",
       "      <td>NEW YORK -- Indecision marked the dollar's ton...</td>\n",
       "      <td>1</td>\n",
       "    </tr>\n",
       "  </tbody>\n",
       "</table>\n",
       "</div>"
      ],
      "text/plain": [
       "                                                text  relevance\n",
       "0  NEW YORK -- Yields on most certificates of dep...          1\n",
       "1  The Wall Street Journal Online</br></br>The Mo...          0\n",
       "2  WASHINGTON -- In an effort to achieve banking ...          0\n",
       "3  The statistics on the enormous costs of employ...          0\n",
       "4  NEW YORK -- Indecision marked the dollar's ton...          1"
      ]
     },
     "execution_count": 53,
     "metadata": {},
     "output_type": "execute_result"
    }
   ],
   "source": [
    "datos.head()"
   ]
  },
  {
   "cell_type": "code",
   "execution_count": 54,
   "id": "2f0893f9-f449-4ee5-bff8-7049a75107d0",
   "metadata": {},
   "outputs": [],
   "source": [
    "lematizador = WordNetLemmatizer()"
   ]
  },
  {
   "cell_type": "code",
   "execution_count": 55,
   "id": "1c327be8-0523-426d-95b7-3935716098eb",
   "metadata": {},
   "outputs": [],
   "source": [
    "#limpiamos el texto\n",
    "\n",
    "def limpieza(texto):\n",
    "    texto = re.sub(r'[#@]\\w+', ' ', texto)       # elimina hashtags y menciones con arroba\n",
    "    texto = re.sub(r'[^a-zA-Z\\s]', ' ', texto)   # elimina simbolos o caracteres especiales\n",
    "    texto = texto.lower()                        # convierte el texto a minuscula\n",
    "    texto = re.sub(r' +', ' ', texto).strip()    # elimina espacios en blanco\n",
    "    texto = re.sub(r'http\\S+|www\\S+', '', texto) # elimina enlaces\n",
    "    texto = re.sub(r'[!?\\']', '', texto)         # elimina signos de puntuacion\n",
    "    texto = re.sub(r'</br>', ' ', texto)         # elimina etiquetas HTML\n",
    "    texto = re.sub(r'-', ' ', texto)             # elimina guiones por un espacio\n",
    "    tokens = texto.split()\n",
    "    tokens_lematizados = [lematizador.lemmatize(token) for token in tokens]\n",
    "    return ' '.join(tokens_lematizados)\n",
    "\n",
    "\n"
   ]
  },
  {
   "cell_type": "code",
   "execution_count": 56,
   "id": "535613ed-e762-4fc4-9864-b266a1ad438d",
   "metadata": {},
   "outputs": [
    {
     "name": "stdout",
     "output_type": "stream",
     "text": [
      "(7991,) (7991,)\n"
     ]
    }
   ],
   "source": [
    "#Separamos los datos de entrenamiento y de testeo\n",
    "X = datos.text\n",
    "y = datos.relevance\n",
    "print(X.shape, y.shape)\n",
    "\n",
    "X_train, X_test, y_train, y_test = train_test_split(X, y, random_state=1)"
   ]
  },
  {
   "cell_type": "code",
   "execution_count": 57,
   "id": "98bd97e9-5c81-4649-a59f-056bb72ce563",
   "metadata": {},
   "outputs": [],
   "source": [
    "#Vectorizamos el texto para convertirlo en una representacion numerica\n",
    "vector = CountVectorizer(preprocessor=limpieza)\n",
    "\n",
    "X_train_dtm = vector.fit_transform(X_train)\n",
    "X_test_dtm = vector.transform(X_test)"
   ]
  },
  {
   "cell_type": "code",
   "execution_count": 58,
   "id": "d7ed39d5-4f27-4c45-b102-e455eccd2361",
   "metadata": {},
   "outputs": [
    {
     "name": "stdout",
     "output_type": "stream",
     "text": [
      "Modelo entrenado con éxito.\n"
     ]
    }
   ],
   "source": [
    "#Inicializamos y entrenamos el modelo y predecimos\n",
    "modelonb= MultinomialNB()\n",
    "modelonb.fit(X_train_dtm, y_train, alpha=1.0)\n",
    "y_pred_class = modelonb.predict(X_test_dtm)"
   ]
  },
  {
   "cell_type": "code",
   "execution_count": 59,
   "id": "dd98c430-dfb8-4c84-9b3a-bec52809e7fc",
   "metadata": {},
   "outputs": [
    {
     "name": "stdout",
     "output_type": "stream",
     "text": [
      "presición:  0.7437437437437437\n"
     ]
    }
   ],
   "source": [
    "#Evaluamos el rendimiento del modelo\n",
    "print(\"presición: \", accuracy_score(y_test, y_pred_class))"
   ]
  },
  {
   "cell_type": "code",
   "execution_count": 60,
   "id": "bd495a62-e15a-4c02-88a0-4364d160ffab",
   "metadata": {},
   "outputs": [],
   "source": [
    "# Función para visualizar la matriz de confusión\n",
    "def matriz_de_confusion(cm, classes,normalize=False,title='matrixconfusion',cmap=plt.cm.Blues):\n",
    "    \n",
    "    if normalize:\n",
    "        cm = cm.astype('float') / cm.sum(axis=1)[:, np.newaxis]\n",
    "\n",
    "    plt.imshow(cm, interpolation='nearest', cmap=cmap)\n",
    "    plt.title(title)\n",
    "    plt.colorbar()\n",
    "    tick_marks = np.arange(len(classes))\n",
    "    plt.xticks(tick_marks, classes, rotation=45)\n",
    "    plt.yticks(tick_marks, classes)\n",
    "\n",
    "    fmt = '.2f' if normalize else 'd'\n",
    "    umbral = cm.max() / 2.\n",
    "    for i, j in itertools.product(range(cm.shape[0]), range(cm.shape[1])):\n",
    "        plt.text(j, i, format(cm[i, j], fmt),\n",
    "                 horizontalalignment=\"center\",\n",
    "                 color=\"white\" if cm[i, j] > umbral else \"black\")\n",
    "\n",
    "    plt.tight_layout()\n",
    "    plt.ylabel('Real',fontsize=10)\n",
    "    plt.xlabel('Predictiva',fontsize=10)"
   ]
  },
  {
   "cell_type": "code",
   "execution_count": 61,
   "id": "5ebb12ef-4cd3-4295-bf49-8a87281d8850",
   "metadata": {},
   "outputs": [
    {
     "data": {
      "image/png": "[encoded data removed]",
      "text/plain": [
       "<Figure size 800x600 with 2 Axes>"
      ]
     },
     "metadata": {},
     "output_type": "display_data"
    }
   ],
   "source": [
    "#Graficamos la matriz\n",
    "graf_matrix = confusion_matrix(y_test, y_pred_class)\n",
    "plt.figure(figsize=(8,6))\n",
    "matriz_de_confusion(graf_matrix, classes=['No relevante','Relevante'],normalize=True,\n",
    "                      title='Matriz de Confusion')"
   ]
  }
 ],
 "metadata": {
  "kernelspec": {
   "display_name": "Python 3 (ipykernel)",
   "language": "python",
   "name": "python3"
  },
  "language_info": {
   "codemirror_mode": {
    "name": "ipython",
    "version": 3
   },
   "file_extension": ".py",
   "mimetype": "text/x-python",
   "name": "python",
   "nbconvert_exporter": "python",
   "pygments_lexer": "ipython3",
   "version": "3.13.3"
  }
 },
 "nbformat": 4,
 "nbformat_minor": 5
}
