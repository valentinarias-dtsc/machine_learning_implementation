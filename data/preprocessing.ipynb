{
 "cells": [
  {
   "cell_type": "markdown",
   "id": "1903617f",
   "metadata": {},
   "source": [
    "# Data Preprocessing / Preprocesamiento de Datos"
   ]
  },
  {
   "cell_type": "code",
   "execution_count": 3,
   "id": "568289a1",
   "metadata": {},
   "outputs": [],
   "source": [
    "import os\n",
    "import librosa\n",
    "import numpy as np\n",
    "import pandas as pd"
   ]
  },
  {
   "cell_type": "markdown",
   "id": "6212470e",
   "metadata": {},
   "source": [
    "## LDA, GDA"
   ]
  },
  {
   "cell_type": "code",
   "execution_count": 6,
   "id": "fc9a2c10",
   "metadata": {},
   "outputs": [
    {
     "name": "stdout",
     "output_type": "stream",
     "text": [
      "Dataset guardado en data/dataset_LDA-GDA.csv\n"
     ]
    }
   ],
   "source": [
    "def extract_features(file_path):\n",
    "    y, sr = librosa.load(file_path, sr=None)\n",
    "    f0, voiced_flag, voiced_probs = librosa.pyin(y, fmin=librosa.note_to_hz('C2'), fmax=librosa.note_to_hz('C7'))\n",
    "    mfccs = librosa.feature.mfcc(y=y, sr=sr, n_mfcc=13)\n",
    "    \n",
    "    features = {\n",
    "        'meanfreq': np.mean(librosa.feature.spectral_centroid(y=y, sr=sr)),\n",
    "        'sd': np.std(y),\n",
    "        'median': np.median(y),\n",
    "        'Q25': np.percentile(y, 25),\n",
    "        'Q75': np.percentile(y, 75),\n",
    "        'IQR': np.percentile(y, 75) - np.percentile(y, 25),\n",
    "        'skew': pd.Series(y).skew(),\n",
    "        'kurt': pd.Series(y).kurt(),\n",
    "        'sp.ent': np.mean(librosa.feature.spectral_bandwidth(y=y, sr=sr)),\n",
    "        'sfm': np.mean(librosa.feature.spectral_flatness(y=y)),\n",
    "        'mode': np.argmax(np.bincount(y.astype(int))),\n",
    "        'centroid': np.mean(librosa.feature.spectral_centroid(y=y, sr=sr)),\n",
    "        'meanfun': np.mean(librosa.feature.rms(y=y)),\n",
    "        'minfun': np.min(librosa.feature.rms(y=y)),\n",
    "        'maxfun': np.max(librosa.feature.rms(y=y)),\n",
    "        'meandom': np.mean(librosa.feature.spectral_rolloff(y=y, sr=sr)),\n",
    "        'mindom': np.min(librosa.feature.spectral_rolloff(y=y, sr=sr)),\n",
    "        'maxdom': np.max(librosa.feature.spectral_rolloff(y=y, sr=sr)),\n",
    "        'dfrange': np.max(librosa.feature.spectral_rolloff(y=y, sr=sr)) - np.min(librosa.feature.spectral_rolloff(y=y, sr=sr)),\n",
    "        'modindx': np.std(librosa.feature.spectral_rolloff(y=y, sr=sr)) / np.mean(librosa.feature.spectral_rolloff(y=y, sr=sr)),\n",
    "        'mean_f0': np.nanmean(f0),\n",
    "        'min_f0': np.nanmin(f0),\n",
    "        'max_f0': np.nanmax(f0)\n",
    "    }\n",
    "    \n",
    "    for i in range(13):\n",
    "        features[f'mfcc_{i+1}'] = np.mean(mfccs[i, :])\n",
    "    \n",
    "    return features\n",
    "\n",
    "# Cargar el archivo Excel\n",
    "excel_path = \"raw/BVC_Voice_Bio_Public.xlsx\"\n",
    "df_labels = pd.read_excel(excel_path)\n",
    "id_to_sex = dict(zip(df_labels['New_ID'], df_labels['Sex']))\n",
    "\n",
    "dataset = []\n",
    "\n",
    "# Procesar archivos de audio\n",
    "for file in os.listdir(\"raw/audio\"):\n",
    "    if file.endswith(\".wav\"):\n",
    "        file_id = int(file.split('_')[2])  # Extraer el ID antes del guion bajo\n",
    "        if file_id in id_to_sex:\n",
    "            file_path = os.path.join(\"raw/audio\", file)\n",
    "            features = extract_features(file_path)\n",
    "            features['label'] = id_to_sex[file_id]\n",
    "            dataset.append(features)\n",
    "\n",
    "# Convertir a DataFrame y guardar\n",
    "df_dataset = pd.DataFrame(dataset)\n",
    "df_dataset.to_csv(\"dataset_LDA-GDA.csv\", index=False)\n",
    "print(\"Dataset guardado en data/dataset_LDA-GDA.csv\")\n"
   ]
  }
 ],
 "metadata": {
  "kernelspec": {
   "display_name": "Python 3",
   "language": "python",
   "name": "python3"
  },
  "language_info": {
   "codemirror_mode": {
    "name": "ipython",
    "version": 3
   },
   "file_extension": ".py",
   "mimetype": "text/x-python",
   "name": "python",
   "nbconvert_exporter": "python",
   "pygments_lexer": "ipython3",
   "version": "3.11.9"
  }
 },
 "nbformat": 4,
 "nbformat_minor": 5
}
