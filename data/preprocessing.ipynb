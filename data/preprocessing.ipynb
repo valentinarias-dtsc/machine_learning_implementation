{
 "cells": [
  {
   "cell_type": "markdown",
   "id": "1903617f",
   "metadata": {},
   "source": [
    "# Data Preprocessing / Preprocesamiento de Datos"
   ]
  },
  {
   "cell_type": "code",
   "execution_count": 1,
   "id": "568289a1",
   "metadata": {},
   "outputs": [],
   "source": [
    "import pandas as pd"
   ]
  },
  {
   "cell_type": "markdown",
   "id": "da5e9a36",
   "metadata": {},
   "source": [
    "### Data for Polynomic Regression / Datos para Regresión Polinómica"
   ]
  },
  {
   "cell_type": "code",
   "execution_count": 2,
   "id": "33576da6",
   "metadata": {},
   "outputs": [],
   "source": [
    "df = pd.read_csv('raw/exportaciones-actividad-saldo-comercial-rangos-exportacion-empresa-exportadora-mensual.csv', parse_dates=['indice_tiempo'])\n",
    "data = df[['indice_tiempo', 'ventas_gasoil']].copy()\n",
    "data.columns = ['period', 'sales_quantity']\n",
    "data.loc[:,'moving_avg'] = data['sales_quantity'].shift(1).rolling(window=6, center=False).mean()\n",
    "data.loc[:,'deseasonalized'] = data['sales_quantity'] - data['moving_avg']\n",
    "data.dropna(inplace=True)\n",
    "train = data[(data['period'] >= pd.to_datetime('2010-01-01')) & (data['period'] < pd.to_datetime('2020-01-01'))].copy()\n",
    "test = data[data['period'] >= pd.to_datetime('2021-02-01')].copy()\n",
    "train[['period', 'sales_quantity']].to_csv('poly_reg_train.csv', index=False)\n",
    "test.to_csv('poly_reg_test.csv', index=False)"
   ]
  },
  {
   "cell_type": "markdown",
   "id": "f3c3ea67",
   "metadata": {},
   "source": []
  },
  {
   "cell_type": "code",
   "execution_count": null,
   "id": "efc10362",
   "metadata": {},
   "outputs": [],
   "source": []
  },
  {
   "cell_type": "markdown",
   "id": "6212470e",
   "metadata": {},
   "source": []
  },
  {
   "cell_type": "code",
   "execution_count": null,
   "id": "67cb6e86",
   "metadata": {},
   "outputs": [],
   "source": []
  }
 ],
 "metadata": {
  "kernelspec": {
   "display_name": "Python 3",
   "language": "python",
   "name": "python3"
  },
  "language_info": {
   "codemirror_mode": {
    "name": "ipython",
    "version": 3
   },
   "file_extension": ".py",
   "mimetype": "text/x-python",
   "name": "python",
   "nbconvert_exporter": "python",
   "pygments_lexer": "ipython3",
   "version": "3.11.9"
  }
 },
 "nbformat": 4,
 "nbformat_minor": 5
}
